{
  "nbformat": 4,
  "nbformat_minor": 0,
  "metadata": {
    "colab": {
      "provenance": [],
      "authorship_tag": "ABX9TyNkkO4eoRFaSvAYiqDkwI7J",
      "include_colab_link": true
    },
    "kernelspec": {
      "name": "python3",
      "display_name": "Python 3"
    },
    "language_info": {
      "name": "python"
    }
  },
  "cells": [
    {
      "cell_type": "markdown",
      "metadata": {
        "id": "view-in-github",
        "colab_type": "text"
      },
      "source": [
        "<a href=\"https://colab.research.google.com/github/Surajk86808/ML-code/blob/main/Polynomial_Regression.ipynb\" target=\"_parent\"><img src=\"https://colab.research.google.com/assets/colab-badge.svg\" alt=\"Open In Colab\"/></a>"
      ]
    },
    {
      "cell_type": "code",
      "execution_count": 3,
      "metadata": {
        "id": "vrvSXu7RxbDR"
      },
      "outputs": [],
      "source": [
        "import numpy as np\n",
        "import matplotlib.pyplot as plt\n",
        "import pandas as pd\n",
        "%matplotlib inline\n"
      ]
    },
    {
      "cell_type": "code",
      "source": [
        "# creating quad equation for dataset\n",
        "X = 6 * np.random.rand(100,1)-3\n",
        "y = 0.5 * X**2 + 1.5*X + 2 + np.random.randn(100,1)\n",
        "# quadratic euation = 1/2*x^2 + 1.5*x + 2 + outliers\n"
      ],
      "metadata": {
        "id": "4bM1zu-wyhuJ"
      },
      "execution_count": 6,
      "outputs": []
    },
    {
      "cell_type": "code",
      "source": [
        "plt.scatter(X,y,color = 'red')\n",
        "plt.xlabel('X dataset')\n",
        "plt.ylabel('y dataset')\n",
        "plt.show()"
      ],
      "metadata": {
        "colab": {
          "base_uri": "https://localhost:8080/",
          "height": 449
        },
        "id": "wSbAiLIxzDVf",
        "outputId": "a9040753-e5ed-4439-fb18-9cccfda0bec9"
      },
      "execution_count": 8,
      "outputs": [
        {
          "output_type": "display_data",
          "data": {
            "text/plain": [
              "<Figure size 640x480 with 1 Axes>"
            ],
            "image/png": "[encoded data removed]"
          },
          "metadata": {}
        }
      ]
    },
    {
      "cell_type": "code",
      "source": [
        "from sklearn.model_selection import train_test_split\n",
        "X_train, X_test, y_train, y_test = train_test_split(X,y,test_size = 0.25, random_state = 42)"
      ],
      "metadata": {
        "id": "A3SF1Wr60Oy-"
      },
      "execution_count": 11,
      "outputs": []
    },
    {
      "cell_type": "code",
      "source": [
        "from sklearn.linear_model import LinearRegression\n",
        "model1 = LinearRegression()\n",
        "model1.fit(X_train,y_train)"
      ],
      "metadata": {
        "colab": {
          "base_uri": "https://localhost:8080/",
          "height": 80
        },
        "id": "nehngVqZ0sdx",
        "outputId": "529be176-00d7-4150-bc2d-252c300f7b5b"
      },
      "execution_count": 13,
      "outputs": [
        {
          "output_type": "execute_result",
          "data": {
            "text/plain": [
              "LinearRegression()"
            ],
            "text/html": [
              "<style>#sk-container-id-2 {\n",
              "  /* Definition of color scheme common for light and dark mode */\n",
              "  --sklearn-color-text: #000;\n",
              "  --sklearn-color-text-muted: #666;\n",
              "  --sklearn-color-line: gray;\n",
              "  /* Definition of color scheme for unfitted estimators */\n",
              "  --sklearn-color-unfitted-level-0: #fff5e6;\n",
              "  --sklearn-color-unfitted-level-1: #f6e4d2;\n",
              "  --sklearn-color-unfitted-level-2: #ffe0b3;\n",
              "  --sklearn-color-unfitted-level-3: chocolate;\n",
              "  /* Definition of color scheme for fitted estimators */\n",
              "  --sklearn-color-fitted-level-0: #f0f8ff;\n",
              "  --sklearn-color-fitted-level-1: #d4ebff;\n",
              "  --sklearn-color-fitted-level-2: #b3dbfd;\n",
              "  --sklearn-color-fitted-level-3: cornflowerblue;\n",
              "\n",
              "  /* Specific color for light theme */\n",
              "  --sklearn-color-text-on-default-background: var(--sg-text-color, var(--theme-code-foreground, var(--jp-content-font-color1, black)));\n",
              "  --sklearn-color-background: var(--sg-background-color, var(--theme-background, var(--jp-layout-color0, white)));\n",
              "  --sklearn-color-border-box: var(--sg-text-color, var(--theme-code-foreground, var(--jp-content-font-color1, black)));\n",
              "  --sklearn-color-icon: #696969;\n",
              "\n",
              "  @media (prefers-color-scheme: dark) {\n",
              "    /* Redefinition of color scheme for dark theme */\n",
              "    --sklearn-color-text-on-default-background: var(--sg-text-color, var(--theme-code-foreground, var(--jp-content-font-color1, white)));\n",
              "    --sklearn-color-background: var(--sg-background-color, var(--theme-background, var(--jp-layout-color0, #111)));\n",
              "    --sklearn-color-border-box: var(--sg-text-color, var(--theme-code-foreground, var(--jp-content-font-color1, white)));\n",
              "    --sklearn-color-icon: #878787;\n",
              "  }\n",
              "}\n",
              "\n",
              "#sk-container-id-2 {\n",
              "  color: var(--sklearn-color-text);\n",
              "}\n",
              "\n",
              "#sk-container-id-2 pre {\n",
              "  padding: 0;\n",
              "}\n",
              "\n",
              "#sk-container-id-2 input.sk-hidden--visually {\n",
              "  border: 0;\n",
              "  clip: rect(1px 1px 1px 1px);\n",
              "  clip: rect(1px, 1px, 1px, 1px);\n",
              "  height: 1px;\n",
              "  margin: -1px;\n",
              "  overflow: hidden;\n",
              "  padding: 0;\n",
              "  position: absolute;\n",
              "  width: 1px;\n",
              "}\n",
              "\n",
              "#sk-container-id-2 div.sk-dashed-wrapped {\n",
              "  border: 1px dashed var(--sklearn-color-line);\n",
              "  margin: 0 0.4em 0.5em 0.4em;\n",
              "  box-sizing: border-box;\n",
              "  padding-bottom: 0.4em;\n",
              "  background-color: var(--sklearn-color-background);\n",
              "}\n",
              "\n",
              "#sk-container-id-2 div.sk-container {\n",
              "  /* jupyter's `normalize.less` sets `[hidden] { display: none; }`\n",
              "     but bootstrap.min.css set `[hidden] { display: none !important; }`\n",
              "     so we also need the `!important` here to be able to override the\n",
              "     default hidden behavior on the sphinx rendered scikit-learn.org.\n",
              "     See: https://github.com/scikit-learn/scikit-learn/issues/21755 */\n",
              "  display: inline-block !important;\n",
              "  position: relative;\n",
              "}\n",
              "\n",
              "#sk-container-id-2 div.sk-text-repr-fallback {\n",
              "  display: none;\n",
              "}\n",
              "\n",
              "div.sk-parallel-item,\n",
              "div.sk-serial,\n",
              "div.sk-item {\n",
              "  /* draw centered vertical line to link estimators */\n",
              "  background-image: linear-gradient(var(--sklearn-color-text-on-default-background), var(--sklearn-color-text-on-default-background));\n",
              "  background-size: 2px 100%;\n",
              "  background-repeat: no-repeat;\n",
              "  background-position: center center;\n",
              "}\n",
              "\n",
              "/* Parallel-specific style estimator block */\n",
              "\n",
              "#sk-container-id-2 div.sk-parallel-item::after {\n",
              "  content: \"\";\n",
              "  width: 100%;\n",
              "  border-bottom: 2px solid var(--sklearn-color-text-on-default-background);\n",
              "  flex-grow: 1;\n",
              "}\n",
              "\n",
              "#sk-container-id-2 div.sk-parallel {\n",
              "  display: flex;\n",
              "  align-items: stretch;\n",
              "  justify-content: center;\n",
              "  background-color: var(--sklearn-color-background);\n",
              "  position: relative;\n",
              "}\n",
              "\n",
              "#sk-container-id-2 div.sk-parallel-item {\n",
              "  display: flex;\n",
              "  flex-direction: column;\n",
              "}\n",
              "\n",
              "#sk-container-id-2 div.sk-parallel-item:first-child::after {\n",
              "  align-self: flex-end;\n",
              "  width: 50%;\n",
              "}\n",
              "\n",
              "#sk-container-id-2 div.sk-parallel-item:last-child::after {\n",
              "  align-self: flex-start;\n",
              "  width: 50%;\n",
              "}\n",
              "\n",
              "#sk-container-id-2 div.sk-parallel-item:only-child::after {\n",
              "  width: 0;\n",
              "}\n",
              "\n",
              "/* Serial-specific style estimator block */\n",
              "\n",
              "#sk-container-id-2 div.sk-serial {\n",
              "  display: flex;\n",
              "  flex-direction: column;\n",
              "  align-items: center;\n",
              "  background-color: var(--sklearn-color-background);\n",
              "  padding-right: 1em;\n",
              "  padding-left: 1em;\n",
              "}\n",
              "\n",
              "\n",
              "/* Toggleable style: style used for estimator/Pipeline/ColumnTransformer box that is\n",
              "clickable and can be expanded/collapsed.\n",
              "- Pipeline and ColumnTransformer use this feature and define the default style\n",
              "- Estimators will overwrite some part of the style using the `sk-estimator` class\n",
              "*/\n",
              "\n",
              "/* Pipeline and ColumnTransformer style (default) */\n",
              "\n",
              "#sk-container-id-2 div.sk-toggleable {\n",
              "  /* Default theme specific background. It is overwritten whether we have a\n",
              "  specific estimator or a Pipeline/ColumnTransformer */\n",
              "  background-color: var(--sklearn-color-background);\n",
              "}\n",
              "\n",
              "/* Toggleable label */\n",
              "#sk-container-id-2 label.sk-toggleable__label {\n",
              "  cursor: pointer;\n",
              "  display: flex;\n",
              "  width: 100%;\n",
              "  margin-bottom: 0;\n",
              "  padding: 0.5em;\n",
              "  box-sizing: border-box;\n",
              "  text-align: center;\n",
              "  align-items: start;\n",
              "  justify-content: space-between;\n",
              "  gap: 0.5em;\n",
              "}\n",
              "\n",
              "#sk-container-id-2 label.sk-toggleable__label .caption {\n",
              "  font-size: 0.6rem;\n",
              "  font-weight: lighter;\n",
              "  color: var(--sklearn-color-text-muted);\n",
              "}\n",
              "\n",
              "#sk-container-id-2 label.sk-toggleable__label-arrow:before {\n",
              "  /* Arrow on the left of the label */\n",
              "  content: \"▸\";\n",
              "  float: left;\n",
              "  margin-right: 0.25em;\n",
              "  color: var(--sklearn-color-icon);\n",
              "}\n",
              "\n",
              "#sk-container-id-2 label.sk-toggleable__label-arrow:hover:before {\n",
              "  color: var(--sklearn-color-text);\n",
              "}\n",
              "\n",
              "/* Toggleable content - dropdown */\n",
              "\n",
              "#sk-container-id-2 div.sk-toggleable__content {\n",
              "  max-height: 0;\n",
              "  max-width: 0;\n",
              "  overflow: hidden;\n",
              "  text-align: left;\n",
              "  /* unfitted */\n",
              "  background-color: var(--sklearn-color-unfitted-level-0);\n",
              "}\n",
              "\n",
              "#sk-container-id-2 div.sk-toggleable__content.fitted {\n",
              "  /* fitted */\n",
              "  background-color: var(--sklearn-color-fitted-level-0);\n",
              "}\n",
              "\n",
              "#sk-container-id-2 div.sk-toggleable__content pre {\n",
              "  margin: 0.2em;\n",
              "  border-radius: 0.25em;\n",
              "  color: var(--sklearn-color-text);\n",
              "  /* unfitted */\n",
              "  background-color: var(--sklearn-color-unfitted-level-0);\n",
              "}\n",
              "\n",
              "#sk-container-id-2 div.sk-toggleable__content.fitted pre {\n",
              "  /* unfitted */\n",
              "  background-color: var(--sklearn-color-fitted-level-0);\n",
              "}\n",
              "\n",
              "#sk-container-id-2 input.sk-toggleable__control:checked~div.sk-toggleable__content {\n",
              "  /* Expand drop-down */\n",
              "  max-height: 200px;\n",
              "  max-width: 100%;\n",
              "  overflow: auto;\n",
              "}\n",
              "\n",
              "#sk-container-id-2 input.sk-toggleable__control:checked~label.sk-toggleable__label-arrow:before {\n",
              "  content: \"▾\";\n",
              "}\n",
              "\n",
              "/* Pipeline/ColumnTransformer-specific style */\n",
              "\n",
              "#sk-container-id-2 div.sk-label input.sk-toggleable__control:checked~label.sk-toggleable__label {\n",
              "  color: var(--sklearn-color-text);\n",
              "  background-color: var(--sklearn-color-unfitted-level-2);\n",
              "}\n",
              "\n",
              "#sk-container-id-2 div.sk-label.fitted input.sk-toggleable__control:checked~label.sk-toggleable__label {\n",
              "  background-color: var(--sklearn-color-fitted-level-2);\n",
              "}\n",
              "\n",
              "/* Estimator-specific style */\n",
              "\n",
              "/* Colorize estimator box */\n",
              "#sk-container-id-2 div.sk-estimator input.sk-toggleable__control:checked~label.sk-toggleable__label {\n",
              "  /* unfitted */\n",
              "  background-color: var(--sklearn-color-unfitted-level-2);\n",
              "}\n",
              "\n",
              "#sk-container-id-2 div.sk-estimator.fitted input.sk-toggleable__control:checked~label.sk-toggleable__label {\n",
              "  /* fitted */\n",
              "  background-color: var(--sklearn-color-fitted-level-2);\n",
              "}\n",
              "\n",
              "#sk-container-id-2 div.sk-label label.sk-toggleable__label,\n",
              "#sk-container-id-2 div.sk-label label {\n",
              "  /* The background is the default theme color */\n",
              "  color: var(--sklearn-color-text-on-default-background);\n",
              "}\n",
              "\n",
              "/* On hover, darken the color of the background */\n",
              "#sk-container-id-2 div.sk-label:hover label.sk-toggleable__label {\n",
              "  color: var(--sklearn-color-text);\n",
              "  background-color: var(--sklearn-color-unfitted-level-2);\n",
              "}\n",
              "\n",
              "/* Label box, darken color on hover, fitted */\n",
              "#sk-container-id-2 div.sk-label.fitted:hover label.sk-toggleable__label.fitted {\n",
              "  color: var(--sklearn-color-text);\n",
              "  background-color: var(--sklearn-color-fitted-level-2);\n",
              "}\n",
              "\n",
              "/* Estimator label */\n",
              "\n",
              "#sk-container-id-2 div.sk-label label {\n",
              "  font-family: monospace;\n",
              "  font-weight: bold;\n",
              "  display: inline-block;\n",
              "  line-height: 1.2em;\n",
              "}\n",
              "\n",
              "#sk-container-id-2 div.sk-label-container {\n",
              "  text-align: center;\n",
              "}\n",
              "\n",
              "/* Estimator-specific */\n",
              "#sk-container-id-2 div.sk-estimator {\n",
              "  font-family: monospace;\n",
              "  border: 1px dotted var(--sklearn-color-border-box);\n",
              "  border-radius: 0.25em;\n",
              "  box-sizing: border-box;\n",
              "  margin-bottom: 0.5em;\n",
              "  /* unfitted */\n",
              "  background-color: var(--sklearn-color-unfitted-level-0);\n",
              "}\n",
              "\n",
              "#sk-container-id-2 div.sk-estimator.fitted {\n",
              "  /* fitted */\n",
              "  background-color: var(--sklearn-color-fitted-level-0);\n",
              "}\n",
              "\n",
              "/* on hover */\n",
              "#sk-container-id-2 div.sk-estimator:hover {\n",
              "  /* unfitted */\n",
              "  background-color: var(--sklearn-color-unfitted-level-2);\n",
              "}\n",
              "\n",
              "#sk-container-id-2 div.sk-estimator.fitted:hover {\n",
              "  /* fitted */\n",
              "  background-color: var(--sklearn-color-fitted-level-2);\n",
              "}\n",
              "\n",
              "/* Specification for estimator info (e.g. \"i\" and \"?\") */\n",
              "\n",
              "/* Common style for \"i\" and \"?\" */\n",
              "\n",
              ".sk-estimator-doc-link,\n",
              "a:link.sk-estimator-doc-link,\n",
              "a:visited.sk-estimator-doc-link {\n",
              "  float: right;\n",
              "  font-size: smaller;\n",
              "  line-height: 1em;\n",
              "  font-family: monospace;\n",
              "  background-color: var(--sklearn-color-background);\n",
              "  border-radius: 1em;\n",
              "  height: 1em;\n",
              "  width: 1em;\n",
              "  text-decoration: none !important;\n",
              "  margin-left: 0.5em;\n",
              "  text-align: center;\n",
              "  /* unfitted */\n",
              "  border: var(--sklearn-color-unfitted-level-1) 1pt solid;\n",
              "  color: var(--sklearn-color-unfitted-level-1);\n",
              "}\n",
              "\n",
              ".sk-estimator-doc-link.fitted,\n",
              "a:link.sk-estimator-doc-link.fitted,\n",
              "a:visited.sk-estimator-doc-link.fitted {\n",
              "  /* fitted */\n",
              "  border: var(--sklearn-color-fitted-level-1) 1pt solid;\n",
              "  color: var(--sklearn-color-fitted-level-1);\n",
              "}\n",
              "\n",
              "/* On hover */\n",
              "div.sk-estimator:hover .sk-estimator-doc-link:hover,\n",
              ".sk-estimator-doc-link:hover,\n",
              "div.sk-label-container:hover .sk-estimator-doc-link:hover,\n",
              ".sk-estimator-doc-link:hover {\n",
              "  /* unfitted */\n",
              "  background-color: var(--sklearn-color-unfitted-level-3);\n",
              "  color: var(--sklearn-color-background);\n",
              "  text-decoration: none;\n",
              "}\n",
              "\n",
              "div.sk-estimator.fitted:hover .sk-estimator-doc-link.fitted:hover,\n",
              ".sk-estimator-doc-link.fitted:hover,\n",
              "div.sk-label-container:hover .sk-estimator-doc-link.fitted:hover,\n",
              ".sk-estimator-doc-link.fitted:hover {\n",
              "  /* fitted */\n",
              "  background-color: var(--sklearn-color-fitted-level-3);\n",
              "  color: var(--sklearn-color-background);\n",
              "  text-decoration: none;\n",
              "}\n",
              "\n",
              "/* Span, style for the box shown on hovering the info icon */\n",
              ".sk-estimator-doc-link span {\n",
              "  display: none;\n",
              "  z-index: 9999;\n",
              "  position: relative;\n",
              "  font-weight: normal;\n",
              "  right: .2ex;\n",
              "  padding: .5ex;\n",
              "  margin: .5ex;\n",
              "  width: min-content;\n",
              "  min-width: 20ex;\n",
              "  max-width: 50ex;\n",
              "  color: var(--sklearn-color-text);\n",
              "  box-shadow: 2pt 2pt 4pt #999;\n",
              "  /* unfitted */\n",
              "  background: var(--sklearn-color-unfitted-level-0);\n",
              "  border: .5pt solid var(--sklearn-color-unfitted-level-3);\n",
              "}\n",
              "\n",
              ".sk-estimator-doc-link.fitted span {\n",
              "  /* fitted */\n",
              "  background: var(--sklearn-color-fitted-level-0);\n",
              "  border: var(--sklearn-color-fitted-level-3);\n",
              "}\n",
              "\n",
              ".sk-estimator-doc-link:hover span {\n",
              "  display: block;\n",
              "}\n",
              "\n",
              "/* \"?\"-specific style due to the `<a>` HTML tag */\n",
              "\n",
              "#sk-container-id-2 a.estimator_doc_link {\n",
              "  float: right;\n",
              "  font-size: 1rem;\n",
              "  line-height: 1em;\n",
              "  font-family: monospace;\n",
              "  background-color: var(--sklearn-color-background);\n",
              "  border-radius: 1rem;\n",
              "  height: 1rem;\n",
              "  width: 1rem;\n",
              "  text-decoration: none;\n",
              "  /* unfitted */\n",
              "  color: var(--sklearn-color-unfitted-level-1);\n",
              "  border: var(--sklearn-color-unfitted-level-1) 1pt solid;\n",
              "}\n",
              "\n",
              "#sk-container-id-2 a.estimator_doc_link.fitted {\n",
              "  /* fitted */\n",
              "  border: var(--sklearn-color-fitted-level-1) 1pt solid;\n",
              "  color: var(--sklearn-color-fitted-level-1);\n",
              "}\n",
              "\n",
              "/* On hover */\n",
              "#sk-container-id-2 a.estimator_doc_link:hover {\n",
              "  /* unfitted */\n",
              "  background-color: var(--sklearn-color-unfitted-level-3);\n",
              "  color: var(--sklearn-color-background);\n",
              "  text-decoration: none;\n",
              "}\n",
              "\n",
              "#sk-container-id-2 a.estimator_doc_link.fitted:hover {\n",
              "  /* fitted */\n",
              "  background-color: var(--sklearn-color-fitted-level-3);\n",
              "}\n",
              "</style><div id=\"sk-container-id-2\" class=\"sk-top-container\"><div class=\"sk-text-repr-fallback\"><pre>LinearRegression()</pre><b>In a Jupyter environment, please rerun this cell to show the HTML representation or trust the notebook. <br />On GitHub, the HTML representation is unable to render, please try loading this page with nbviewer.org.</b></div><div class=\"sk-container\" hidden><div class=\"sk-item\"><div class=\"sk-estimator fitted sk-toggleable\"><input class=\"sk-toggleable__control sk-hidden--visually\" id=\"sk-estimator-id-2\" type=\"checkbox\" checked><label for=\"sk-estimator-id-2\" class=\"sk-toggleable__label fitted sk-toggleable__label-arrow\"><div><div>LinearRegression</div></div><div><a class=\"sk-estimator-doc-link fitted\" rel=\"noreferrer\" target=\"_blank\" href=\"https://scikit-learn.org/1.6/modules/generated/sklearn.linear_model.LinearRegression.html\">?<span>Documentation for LinearRegression</span></a><span class=\"sk-estimator-doc-link fitted\">i<span>Fitted</span></span></div></label><div class=\"sk-toggleable__content fitted\"><pre>LinearRegression()</pre></div> </div></div></div></div>"
            ]
          },
          "metadata": {},
          "execution_count": 13
        }
      ]
    },
    {
      "cell_type": "code",
      "source": [
        "from sklearn.metrics import r2_score\n",
        "score = r2_score(y_test,model1.predict(X_test))\n",
        "print(score)"
      ],
      "metadata": {
        "colab": {
          "base_uri": "https://localhost:8080/"
        },
        "id": "F5ExGlCH1C0k",
        "outputId": "d31671c5-3d4e-4e2f-cd68-3ea27a217424"
      },
      "execution_count": 17,
      "outputs": [
        {
          "output_type": "stream",
          "name": "stdout",
          "text": [
            "0.6613516555860802\n"
          ]
        }
      ]
    },
    {
      "cell_type": "code",
      "source": [
        "plt.plot(X_train,model1.predict(X_train),color='red')"
      ],
      "metadata": {
        "colab": {
          "base_uri": "https://localhost:8080/",
          "height": 447
        },
        "id": "dKCrcwLI1-nC",
        "outputId": "137c41aa-dfbd-4aa3-f3c2-013b1842605a"
      },
      "execution_count": 19,
      "outputs": [
        {
          "output_type": "execute_result",
          "data": {
            "text/plain": [
              "[<matplotlib.lines.Line2D at 0x7ed715528350>]"
            ]
          },
          "metadata": {},
          "execution_count": 19
        },
        {
          "output_type": "display_data",
          "data": {
            "text/plain": [
              "<Figure size 640x480 with 1 Axes>"
            ],
            "image/png": "[encoded data removed]"
          },
          "metadata": {}
        }
      ]
    },
    {
      "cell_type": "code",
      "source": [
        "plt.scatter(X_train,y_train,color='red')\n",
        "plt.xlabel('X dataset')\n",
        "plt.ylabel('y dataset')\n",
        "plt.title('x vs y (regression)')\n",
        "plt.show()"
      ],
      "metadata": {
        "colab": {
          "base_uri": "https://localhost:8080/",
          "height": 472
        },
        "id": "Vg4GfB1k2aHR",
        "outputId": "aa5e5de1-489a-4bde-ce59-64627919ae03"
      },
      "execution_count": 22,
      "outputs": [
        {
          "output_type": "display_data",
          "data": {
            "text/plain": [
              "<Figure size 640x480 with 1 Axes>"
            ],
            "image/png": "[encoded data removed]"
          },
          "metadata": {}
        }
      ]
    },
    {
      "cell_type": "code",
      "source": [
        "from sklearn.preprocessing import PolynomialFeatures\n",
        "poly = PolynomialFeatures(degree = 2,include_bias=True)\n",
        "X_train_poly = poly.fit_transform(X_train)\n",
        "X_test_poly = poly.transform(X_test)\n",
        "\n",
        "# WHAT IF DEGREE IS 3 OR 4 OR SO ON"
      ],
      "metadata": {
        "id": "iNKMR6j33AYM"
      },
      "execution_count": 25,
      "outputs": []
    },
    {
      "cell_type": "code",
      "source": [],
      "metadata": {
        "id": "XrAHLIg_6xVz"
      },
      "execution_count": null,
      "outputs": []
    },
    {
      "cell_type": "code",
      "source": [
        "X_train_poly"
      ],
      "metadata": {
        "colab": {
          "base_uri": "https://localhost:8080/"
        },
        "id": "-GMxalTS49nB",
        "outputId": "5914a35a-82c3-417e-ead0-e5e444e2e5c7"
      },
      "execution_count": 26,
      "outputs": [
        {
          "output_type": "execute_result",
          "data": {
            "text/plain": [
              "array([[ 1.00000000e+00,  4.68585045e-01,  2.19571945e-01],\n",
              "       [ 1.00000000e+00,  9.53402575e-01,  9.08976470e-01],\n",
              "       [ 1.00000000e+00,  1.43683494e+00,  2.06449466e+00],\n",
              "       [ 1.00000000e+00, -1.15460516e+00,  1.33311308e+00],\n",
              "       [ 1.00000000e+00,  1.97510548e+00,  3.90104168e+00],\n",
              "       [ 1.00000000e+00,  2.88887092e+00,  8.34557520e+00],\n",
              "       [ 1.00000000e+00,  8.74675528e-01,  7.65057280e-01],\n",
              "       [ 1.00000000e+00,  1.77600339e+00,  3.15418804e+00],\n",
              "       [ 1.00000000e+00,  7.37129741e-01,  5.43360256e-01],\n",
              "       [ 1.00000000e+00,  2.84304362e+00,  8.08289705e+00],\n",
              "       [ 1.00000000e+00, -8.42175611e-02,  7.09259760e-03],\n",
              "       [ 1.00000000e+00,  2.28868474e+00,  5.23807786e+00],\n",
              "       [ 1.00000000e+00,  2.76806899e+00,  7.66220591e+00],\n",
              "       [ 1.00000000e+00, -7.31073832e-01,  5.34468948e-01],\n",
              "       [ 1.00000000e+00, -1.16149385e+00,  1.34906796e+00],\n",
              "       [ 1.00000000e+00,  1.98384610e+00,  3.93564534e+00],\n",
              "       [ 1.00000000e+00, -1.52160237e+00,  2.31527378e+00],\n",
              "       [ 1.00000000e+00,  7.20180818e-01,  5.18660411e-01],\n",
              "       [ 1.00000000e+00, -2.80979990e+00,  7.89497548e+00],\n",
              "       [ 1.00000000e+00, -2.74139715e+00,  7.51525833e+00],\n",
              "       [ 1.00000000e+00, -2.84211989e+00,  8.07764545e+00],\n",
              "       [ 1.00000000e+00,  9.64816252e-02,  9.30870400e-03],\n",
              "       [ 1.00000000e+00,  6.89571895e-01,  4.75509399e-01],\n",
              "       [ 1.00000000e+00,  2.93357092e-01,  8.60583834e-02],\n",
              "       [ 1.00000000e+00,  2.54019280e+00,  6.45257948e+00],\n",
              "       [ 1.00000000e+00,  2.79552064e+00,  7.81493567e+00],\n",
              "       [ 1.00000000e+00, -1.08360765e+00,  1.17420554e+00],\n",
              "       [ 1.00000000e+00, -5.14934823e-01,  2.65157872e-01],\n",
              "       [ 1.00000000e+00,  3.89624450e-01,  1.51807212e-01],\n",
              "       [ 1.00000000e+00, -1.96320828e+00,  3.85418674e+00],\n",
              "       [ 1.00000000e+00,  2.53890525e+00,  6.44603987e+00],\n",
              "       [ 1.00000000e+00, -2.17337878e+00,  4.72357534e+00],\n",
              "       [ 1.00000000e+00, -9.28981667e-01,  8.63006939e-01],\n",
              "       [ 1.00000000e+00,  1.83229456e+00,  3.35730336e+00],\n",
              "       [ 1.00000000e+00,  2.38168340e+00,  5.67241582e+00],\n",
              "       [ 1.00000000e+00, -1.00068361e+00,  1.00136768e+00],\n",
              "       [ 1.00000000e+00, -2.53911520e+00,  6.44710601e+00],\n",
              "       [ 1.00000000e+00, -2.90303063e+00,  8.42758683e+00],\n",
              "       [ 1.00000000e+00, -1.07481885e+00,  1.15523556e+00],\n",
              "       [ 1.00000000e+00, -2.40717413e-01,  5.79448729e-02],\n",
              "       [ 1.00000000e+00, -2.68906530e+00,  7.23107221e+00],\n",
              "       [ 1.00000000e+00,  2.23921869e+00,  5.01410036e+00],\n",
              "       [ 1.00000000e+00, -2.00535453e+00,  4.02144678e+00],\n",
              "       [ 1.00000000e+00,  4.58562815e-01,  2.10279855e-01],\n",
              "       [ 1.00000000e+00,  1.43238838e+00,  2.05173646e+00],\n",
              "       [ 1.00000000e+00, -3.87338215e-01,  1.50030893e-01],\n",
              "       [ 1.00000000e+00,  1.43531818e+00,  2.06013829e+00],\n",
              "       [ 1.00000000e+00,  1.86911444e+00,  3.49358879e+00],\n",
              "       [ 1.00000000e+00, -2.69264543e-01,  7.25033939e-02],\n",
              "       [ 1.00000000e+00, -1.86654480e+00,  3.48398950e+00],\n",
              "       [ 1.00000000e+00,  9.36239536e-01,  8.76544468e-01],\n",
              "       [ 1.00000000e+00,  2.54178455e+00,  6.46066872e+00],\n",
              "       [ 1.00000000e+00,  2.16052822e+00,  4.66788218e+00],\n",
              "       [ 1.00000000e+00, -1.59296206e+00,  2.53752811e+00],\n",
              "       [ 1.00000000e+00,  4.55222332e-01,  2.07227372e-01],\n",
              "       [ 1.00000000e+00, -2.80722704e+00,  7.88052367e+00],\n",
              "       [ 1.00000000e+00, -3.20056198e-01,  1.02435970e-01],\n",
              "       [ 1.00000000e+00,  2.05586755e+00,  4.22659139e+00],\n",
              "       [ 1.00000000e+00, -2.51178889e-01,  6.30908342e-02],\n",
              "       [ 1.00000000e+00, -5.31359167e-01,  2.82342564e-01],\n",
              "       [ 1.00000000e+00,  2.51970517e+00,  6.34891415e+00],\n",
              "       [ 1.00000000e+00, -4.43795495e-01,  1.96954441e-01],\n",
              "       [ 1.00000000e+00,  1.31077809e+00,  1.71813919e+00],\n",
              "       [ 1.00000000e+00, -1.07857299e+00,  1.16331968e+00],\n",
              "       [ 1.00000000e+00,  2.14319429e+00,  4.59328176e+00],\n",
              "       [ 1.00000000e+00,  1.27351190e+00,  1.62183256e+00],\n",
              "       [ 1.00000000e+00,  6.45466747e-01,  4.16627321e-01],\n",
              "       [ 1.00000000e+00,  1.78788201e+00,  3.19652207e+00],\n",
              "       [ 1.00000000e+00,  2.07551685e+00,  4.30777018e+00],\n",
              "       [ 1.00000000e+00, -2.17343815e+00,  4.72383339e+00],\n",
              "       [ 1.00000000e+00,  1.03971515e+00,  1.08100760e+00],\n",
              "       [ 1.00000000e+00,  2.13446294e+00,  4.55593203e+00],\n",
              "       [ 1.00000000e+00,  2.98915394e-01,  8.93504126e-02],\n",
              "       [ 1.00000000e+00, -8.28897591e-01,  6.87071216e-01],\n",
              "       [ 1.00000000e+00, -4.62396494e-01,  2.13810518e-01]])"
            ]
          },
          "metadata": {},
          "execution_count": 26
        }
      ]
    },
    {
      "cell_type": "code",
      "source": [
        "from sklearn.metrics  import r2_score\n",
        "regression_model = LinearRegression()\n",
        "regression_model.fit(X_train_poly,y_train)\n",
        "y_predict = regression_model.predict(X_test_poly)\n",
        "score = r2_score(y_test,y_predict)\n",
        "print(score)"
      ],
      "metadata": {
        "colab": {
          "base_uri": "https://localhost:8080/"
        },
        "id": "_-Ylnau75EN7",
        "outputId": "999170b1-109b-4ea6-ba40-0a87c96f7ec0"
      },
      "execution_count": 28,
      "outputs": [
        {
          "output_type": "stream",
          "name": "stdout",
          "text": [
            "0.9174275040036113\n"
          ]
        }
      ]
    },
    {
      "cell_type": "code",
      "source": [
        "regression_model.coef_\n",
        "# why 3 coeefiecint => as 3 input features"
      ],
      "metadata": {
        "colab": {
          "base_uri": "https://localhost:8080/"
        },
        "id": "tyeZG26r5g9m",
        "outputId": "19f745d1-9b54-4ce0-e88d-c17fc0a6bc9c"
      },
      "execution_count": 29,
      "outputs": [
        {
          "output_type": "execute_result",
          "data": {
            "text/plain": [
              "array([[0.        , 1.45808138, 0.40876549]])"
            ]
          },
          "metadata": {},
          "execution_count": 29
        }
      ]
    },
    {
      "cell_type": "code",
      "source": [
        "regression_model.intercept_"
      ],
      "metadata": {
        "colab": {
          "base_uri": "https://localhost:8080/"
        },
        "id": "r8uqxqyI5oPw",
        "outputId": "6cd77129-d11a-4a2d-9b0c-33676208025a"
      },
      "execution_count": 30,
      "outputs": [
        {
          "output_type": "execute_result",
          "data": {
            "text/plain": [
              "array([2.3375382])"
            ]
          },
          "metadata": {},
          "execution_count": 30
        }
      ]
    },
    {
      "cell_type": "code",
      "source": [
        "plt.scatter(X_train,regression_model.predict(X_train_poly),color='red')\n",
        "plt.scatter(X_train,y_train,color='blue')\n",
        "plt.xlabel('X dataset')\n",
        "plt.ylabel('y dataset')\n",
        "plt.title('x vs y (regression)')\n",
        "plt.show"
      ],
      "metadata": {
        "colab": {
          "base_uri": "https://localhost:8080/",
          "height": 641
        },
        "id": "KwFL6n8M5sKT",
        "outputId": "1b5ecfb0-49a0-472c-d078-3367fe1efeed"
      },
      "execution_count": 32,
      "outputs": [
        {
          "output_type": "execute_result",
          "data": {
            "text/plain": [
              "<function matplotlib.pyplot.show(close=None, block=None)>"
            ],
            "text/html": [
              "<div style=\"max-width:800px; border: 1px solid var(--colab-border-color);\"><style>\n",
              "      pre.function-repr-contents {\n",
              "        overflow-x: auto;\n",
              "        padding: 8px 12px;\n",
              "        max-height: 500px;\n",
              "      }\n",
              "\n",
              "      pre.function-repr-contents.function-repr-contents-collapsed {\n",
              "        cursor: pointer;\n",
              "        max-height: 100px;\n",
              "      }\n",
              "    </style>\n",
              "    <pre style=\"white-space: initial; background:\n",
              "         var(--colab-secondary-surface-color); padding: 8px 12px;\n",
              "         border-bottom: 1px solid var(--colab-border-color);\"><b>matplotlib.pyplot.show</b><br/>def show(*args, **kwargs) -&gt; None</pre><pre class=\"function-repr-contents function-repr-contents-collapsed\" style=\"\"><a class=\"filepath\" style=\"display:none\" href=\"#\">/usr/local/lib/python3.11/dist-packages/matplotlib/pyplot.py</a>Display all open figures.\n",
              "\n",
              "Parameters\n",
              "----------\n",
              "block : bool, optional\n",
              "    Whether to wait for all figures to be closed before returning.\n",
              "\n",
              "    If `True` block and run the GUI main loop until all figure windows\n",
              "    are closed.\n",
              "\n",
              "    If `False` ensure that all figure windows are displayed and return\n",
              "    immediately.  In this case, you are responsible for ensuring\n",
              "    that the event loop is running to have responsive figures.\n",
              "\n",
              "    Defaults to True in non-interactive mode and to False in interactive\n",
              "    mode (see `.pyplot.isinteractive`).\n",
              "\n",
              "See Also\n",
              "--------\n",
              "ion : Enable interactive mode, which shows / updates the figure after\n",
              "      every plotting command, so that calling ``show()`` is not necessary.\n",
              "ioff : Disable interactive mode.\n",
              "savefig : Save the figure to an image file instead of showing it on screen.\n",
              "\n",
              "Notes\n",
              "-----\n",
              "**Saving figures to file and showing a window at the same time**\n",
              "\n",
              "If you want an image file as well as a user interface window, use\n",
              "`.pyplot.savefig` before `.pyplot.show`. At the end of (a blocking)\n",
              "``show()`` the figure is closed and thus unregistered from pyplot. Calling\n",
              "`.pyplot.savefig` afterwards would save a new and thus empty figure. This\n",
              "limitation of command order does not apply if the show is non-blocking or\n",
              "if you keep a reference to the figure and use `.Figure.savefig`.\n",
              "\n",
              "**Auto-show in jupyter notebooks**\n",
              "\n",
              "The jupyter backends (activated via ``%matplotlib inline``,\n",
              "``%matplotlib notebook``, or ``%matplotlib widget``), call ``show()`` at\n",
              "the end of every cell by default. Thus, you usually don&#x27;t have to call it\n",
              "explicitly there.</pre>\n",
              "      <script>\n",
              "      if (google.colab.kernel.accessAllowed && google.colab.files && google.colab.files.view) {\n",
              "        for (const element of document.querySelectorAll('.filepath')) {\n",
              "          element.style.display = 'block'\n",
              "          element.onclick = (event) => {\n",
              "            event.preventDefault();\n",
              "            event.stopPropagation();\n",
              "            google.colab.files.view(element.textContent, 569);\n",
              "          };\n",
              "        }\n",
              "      }\n",
              "      for (const element of document.querySelectorAll('.function-repr-contents')) {\n",
              "        element.onclick = (event) => {\n",
              "          event.preventDefault();\n",
              "          event.stopPropagation();\n",
              "          element.classList.toggle('function-repr-contents-collapsed');\n",
              "        };\n",
              "      }\n",
              "      </script>\n",
              "      </div>"
            ]
          },
          "metadata": {},
          "execution_count": 32
        },
        {
          "output_type": "display_data",
          "data": {
            "text/plain": [
              "<Figure size 640x480 with 1 Axes>"
            ],
            "image/png": "[encoded data removed]"
          },
          "metadata": {}
        }
      ]
    },
    {
      "cell_type": "code",
      "source": [
        "# prediction of new data\n",
        "X_new = np.linspace(-3,3,100).reshape(100,1)\n",
        "X_new_poly = poly.transform(X_new)\n",
        "X_new_poly"
      ],
      "metadata": {
        "colab": {
          "base_uri": "https://localhost:8080/"
        },
        "id": "DjsIxjdR6zsx",
        "outputId": "1c06d381-ffe8-4d1d-8d03-39266ae335b5"
      },
      "execution_count": 33,
      "outputs": [
        {
          "output_type": "execute_result",
          "data": {
            "text/plain": [
              "array([[ 1.00000000e+00, -3.00000000e+00,  9.00000000e+00],\n",
              "       [ 1.00000000e+00, -2.93939394e+00,  8.64003673e+00],\n",
              "       [ 1.00000000e+00, -2.87878788e+00,  8.28741965e+00],\n",
              "       [ 1.00000000e+00, -2.81818182e+00,  7.94214876e+00],\n",
              "       [ 1.00000000e+00, -2.75757576e+00,  7.60422406e+00],\n",
              "       [ 1.00000000e+00, -2.69696970e+00,  7.27364555e+00],\n",
              "       [ 1.00000000e+00, -2.63636364e+00,  6.95041322e+00],\n",
              "       [ 1.00000000e+00, -2.57575758e+00,  6.63452709e+00],\n",
              "       [ 1.00000000e+00, -2.51515152e+00,  6.32598714e+00],\n",
              "       [ 1.00000000e+00, -2.45454545e+00,  6.02479339e+00],\n",
              "       [ 1.00000000e+00, -2.39393939e+00,  5.73094582e+00],\n",
              "       [ 1.00000000e+00, -2.33333333e+00,  5.44444444e+00],\n",
              "       [ 1.00000000e+00, -2.27272727e+00,  5.16528926e+00],\n",
              "       [ 1.00000000e+00, -2.21212121e+00,  4.89348026e+00],\n",
              "       [ 1.00000000e+00, -2.15151515e+00,  4.62901745e+00],\n",
              "       [ 1.00000000e+00, -2.09090909e+00,  4.37190083e+00],\n",
              "       [ 1.00000000e+00, -2.03030303e+00,  4.12213039e+00],\n",
              "       [ 1.00000000e+00, -1.96969697e+00,  3.87970615e+00],\n",
              "       [ 1.00000000e+00, -1.90909091e+00,  3.64462810e+00],\n",
              "       [ 1.00000000e+00, -1.84848485e+00,  3.41689624e+00],\n",
              "       [ 1.00000000e+00, -1.78787879e+00,  3.19651056e+00],\n",
              "       [ 1.00000000e+00, -1.72727273e+00,  2.98347107e+00],\n",
              "       [ 1.00000000e+00, -1.66666667e+00,  2.77777778e+00],\n",
              "       [ 1.00000000e+00, -1.60606061e+00,  2.57943067e+00],\n",
              "       [ 1.00000000e+00, -1.54545455e+00,  2.38842975e+00],\n",
              "       [ 1.00000000e+00, -1.48484848e+00,  2.20477502e+00],\n",
              "       [ 1.00000000e+00, -1.42424242e+00,  2.02846648e+00],\n",
              "       [ 1.00000000e+00, -1.36363636e+00,  1.85950413e+00],\n",
              "       [ 1.00000000e+00, -1.30303030e+00,  1.69788797e+00],\n",
              "       [ 1.00000000e+00, -1.24242424e+00,  1.54361800e+00],\n",
              "       [ 1.00000000e+00, -1.18181818e+00,  1.39669421e+00],\n",
              "       [ 1.00000000e+00, -1.12121212e+00,  1.25711662e+00],\n",
              "       [ 1.00000000e+00, -1.06060606e+00,  1.12488522e+00],\n",
              "       [ 1.00000000e+00, -1.00000000e+00,  1.00000000e+00],\n",
              "       [ 1.00000000e+00, -9.39393939e-01,  8.82460973e-01],\n",
              "       [ 1.00000000e+00, -8.78787879e-01,  7.72268136e-01],\n",
              "       [ 1.00000000e+00, -8.18181818e-01,  6.69421488e-01],\n",
              "       [ 1.00000000e+00, -7.57575758e-01,  5.73921028e-01],\n",
              "       [ 1.00000000e+00, -6.96969697e-01,  4.85766758e-01],\n",
              "       [ 1.00000000e+00, -6.36363636e-01,  4.04958678e-01],\n",
              "       [ 1.00000000e+00, -5.75757576e-01,  3.31496786e-01],\n",
              "       [ 1.00000000e+00, -5.15151515e-01,  2.65381084e-01],\n",
              "       [ 1.00000000e+00, -4.54545455e-01,  2.06611570e-01],\n",
              "       [ 1.00000000e+00, -3.93939394e-01,  1.55188246e-01],\n",
              "       [ 1.00000000e+00, -3.33333333e-01,  1.11111111e-01],\n",
              "       [ 1.00000000e+00, -2.72727273e-01,  7.43801653e-02],\n",
              "       [ 1.00000000e+00, -2.12121212e-01,  4.49954086e-02],\n",
              "       [ 1.00000000e+00, -1.51515152e-01,  2.29568411e-02],\n",
              "       [ 1.00000000e+00, -9.09090909e-02,  8.26446281e-03],\n",
              "       [ 1.00000000e+00, -3.03030303e-02,  9.18273646e-04],\n",
              "       [ 1.00000000e+00,  3.03030303e-02,  9.18273646e-04],\n",
              "       [ 1.00000000e+00,  9.09090909e-02,  8.26446281e-03],\n",
              "       [ 1.00000000e+00,  1.51515152e-01,  2.29568411e-02],\n",
              "       [ 1.00000000e+00,  2.12121212e-01,  4.49954086e-02],\n",
              "       [ 1.00000000e+00,  2.72727273e-01,  7.43801653e-02],\n",
              "       [ 1.00000000e+00,  3.33333333e-01,  1.11111111e-01],\n",
              "       [ 1.00000000e+00,  3.93939394e-01,  1.55188246e-01],\n",
              "       [ 1.00000000e+00,  4.54545455e-01,  2.06611570e-01],\n",
              "       [ 1.00000000e+00,  5.15151515e-01,  2.65381084e-01],\n",
              "       [ 1.00000000e+00,  5.75757576e-01,  3.31496786e-01],\n",
              "       [ 1.00000000e+00,  6.36363636e-01,  4.04958678e-01],\n",
              "       [ 1.00000000e+00,  6.96969697e-01,  4.85766758e-01],\n",
              "       [ 1.00000000e+00,  7.57575758e-01,  5.73921028e-01],\n",
              "       [ 1.00000000e+00,  8.18181818e-01,  6.69421488e-01],\n",
              "       [ 1.00000000e+00,  8.78787879e-01,  7.72268136e-01],\n",
              "       [ 1.00000000e+00,  9.39393939e-01,  8.82460973e-01],\n",
              "       [ 1.00000000e+00,  1.00000000e+00,  1.00000000e+00],\n",
              "       [ 1.00000000e+00,  1.06060606e+00,  1.12488522e+00],\n",
              "       [ 1.00000000e+00,  1.12121212e+00,  1.25711662e+00],\n",
              "       [ 1.00000000e+00,  1.18181818e+00,  1.39669421e+00],\n",
              "       [ 1.00000000e+00,  1.24242424e+00,  1.54361800e+00],\n",
              "       [ 1.00000000e+00,  1.30303030e+00,  1.69788797e+00],\n",
              "       [ 1.00000000e+00,  1.36363636e+00,  1.85950413e+00],\n",
              "       [ 1.00000000e+00,  1.42424242e+00,  2.02846648e+00],\n",
              "       [ 1.00000000e+00,  1.48484848e+00,  2.20477502e+00],\n",
              "       [ 1.00000000e+00,  1.54545455e+00,  2.38842975e+00],\n",
              "       [ 1.00000000e+00,  1.60606061e+00,  2.57943067e+00],\n",
              "       [ 1.00000000e+00,  1.66666667e+00,  2.77777778e+00],\n",
              "       [ 1.00000000e+00,  1.72727273e+00,  2.98347107e+00],\n",
              "       [ 1.00000000e+00,  1.78787879e+00,  3.19651056e+00],\n",
              "       [ 1.00000000e+00,  1.84848485e+00,  3.41689624e+00],\n",
              "       [ 1.00000000e+00,  1.90909091e+00,  3.64462810e+00],\n",
              "       [ 1.00000000e+00,  1.96969697e+00,  3.87970615e+00],\n",
              "       [ 1.00000000e+00,  2.03030303e+00,  4.12213039e+00],\n",
              "       [ 1.00000000e+00,  2.09090909e+00,  4.37190083e+00],\n",
              "       [ 1.00000000e+00,  2.15151515e+00,  4.62901745e+00],\n",
              "       [ 1.00000000e+00,  2.21212121e+00,  4.89348026e+00],\n",
              "       [ 1.00000000e+00,  2.27272727e+00,  5.16528926e+00],\n",
              "       [ 1.00000000e+00,  2.33333333e+00,  5.44444444e+00],\n",
              "       [ 1.00000000e+00,  2.39393939e+00,  5.73094582e+00],\n",
              "       [ 1.00000000e+00,  2.45454545e+00,  6.02479339e+00],\n",
              "       [ 1.00000000e+00,  2.51515152e+00,  6.32598714e+00],\n",
              "       [ 1.00000000e+00,  2.57575758e+00,  6.63452709e+00],\n",
              "       [ 1.00000000e+00,  2.63636364e+00,  6.95041322e+00],\n",
              "       [ 1.00000000e+00,  2.69696970e+00,  7.27364555e+00],\n",
              "       [ 1.00000000e+00,  2.75757576e+00,  7.60422406e+00],\n",
              "       [ 1.00000000e+00,  2.81818182e+00,  7.94214876e+00],\n",
              "       [ 1.00000000e+00,  2.87878788e+00,  8.28741965e+00],\n",
              "       [ 1.00000000e+00,  2.93939394e+00,  8.64003673e+00],\n",
              "       [ 1.00000000e+00,  3.00000000e+00,  9.00000000e+00]])"
            ]
          },
          "metadata": {},
          "execution_count": 33
        }
      ]
    },
    {
      "cell_type": "code",
      "source": [
        "Y_new =  regression_model.predict(X_new_poly)\n",
        "Y_new = Y_new.reshape(100,1)"
      ],
      "metadata": {
        "id": "_zKDJCzi7JWy"
      },
      "execution_count": 34,
      "outputs": []
    },
    {
      "cell_type": "code",
      "metadata": {
        "colab": {
          "base_uri": "https://localhost:8080/",
          "height": 472
        },
        "id": "0def61b9",
        "outputId": "ea53e938-6990-4628-f9e3-aeec461d20f0"
      },
      "source": [
        "# Plot the original training data\n",
        "plt.scatter(X_train, y_train, color='blue', label='Training Data')\n",
        "\n",
        "# Plot the original test data\n",
        "plt.scatter(X_test, y_test, color='green', label='Test Data')\n",
        "\n",
        "# Plot the predicted values for the new data range\n",
        "plt.plot(X_new, Y_new, color='red', label='Polynomial Regression Prediction')\n",
        "\n",
        "plt.xlabel('X dataset')\n",
        "plt.ylabel('y dataset')\n",
        "plt.title('Polynomial Regression: X vs Y with Predictions')\n",
        "plt.legend()\n",
        "plt.show()"
      ],
      "execution_count": 36,
      "outputs": [
        {
          "output_type": "display_data",
          "data": {
            "text/plain": [
              "<Figure size 640x480 with 1 Axes>"
            ],
            "image/png": "[encoded data removed]"
          },
          "metadata": {}
        }
      ]
    }
  ]
}
{
  "nbformat": 4,
  "nbformat_minor": 0,
  "metadata": {
    "colab": {
      "provenance": [],
      "authorship_tag": "ABX9TyOT5A3lndNoXoasFOPEAnbW",
      "include_colab_link": true
    },
    "kernelspec": {
      "name": "python3",
      "display_name": "Python 3"
    },
    "language_info": {
      "name": "python"
    }
  },
  "cells": [
    {
      "cell_type": "markdown",
      "metadata": {
        "id": "view-in-github",
        "colab_type": "text"
      },
      "source": [
        "<a href=\"https://colab.research.google.com/github/Surajk86808/ML-code/blob/main/Logistic_Regression_Imbalance_Dataset.ipynb\" target=\"_parent\"><img src=\"https://colab.research.google.com/assets/colab-badge.svg\" alt=\"Open In Colab\"/></a>"
      ]
    },
    {
      "cell_type": "code",
      "execution_count": 4,
      "metadata": {
        "id": "8X9ZvZIkVWXO"
      },
      "outputs": [],
      "source": [
        "from collections import Counter\n",
        "from sklearn.datasets import make_classification"
      ]
    },
    {
      "cell_type": "code",
      "source": [],
      "metadata": {
        "id": "P0f8F6avWje_"
      },
      "execution_count": null,
      "outputs": []
    },
    {
      "cell_type": "code",
      "metadata": {
        "colab": {
          "base_uri": "https://localhost:8080/"
        },
        "id": "fc3c63bd",
        "outputId": "932015ab-40a3-4313-fb12-6fc7a5e4c76f"
      },
      "source": [
        "# Generate sample classification data\n",
        "X, y = make_classification(n_samples=1000, n_features=20, random_state=42)\n",
        "\n",
        "# Display the shapes of the generated data\n",
        "print(\"Shape of features (X):\", X.shape)\n",
        "print(\"Shape of target (y):\", y.shape)"
      ],
      "execution_count": 5,
      "outputs": [
        {
          "output_type": "stream",
          "name": "stdout",
          "text": [
            "Shape of features (X): (1000, 20)\n",
            "Shape of target (y): (1000,)\n"
          ]
        }
      ]
    },
    {
      "cell_type": "code",
      "metadata": {
        "colab": {
          "base_uri": "https://localhost:8080/"
        },
        "id": "40391f43",
        "outputId": "4d6e4a51-b81a-450d-c19a-3d8eefb3bfe9"
      },
      "source": [
        "# Use Counter to count the occurrences of each class in the target variable\n",
        "class_counts = Counter(y)\n",
        "\n",
        "# Display the class counts\n",
        "print(\"Class distribution:\", class_counts)"
      ],
      "execution_count": 6,
      "outputs": [
        {
          "output_type": "stream",
          "name": "stdout",
          "text": [
            "Class distribution: Counter({np.int64(1): 500, np.int64(0): 500})\n"
          ]
        }
      ]
    },
    {
      "cell_type": "markdown",
      "metadata": {
        "id": "4c4a235c"
      },
      "source": [
        "**Reasoning**:\n",
        "Import the necessary function and split the data into training and testing sets as instructed.\n",
        "\n"
      ]
    },
    {
      "cell_type": "code",
      "metadata": {
        "colab": {
          "base_uri": "https://localhost:8080/"
        },
        "id": "13778dab",
        "outputId": "bf08ad87-0609-4935-d9e9-baa5dce2fd63"
      },
      "source": [
        "from sklearn.model_selection import train_test_split\n",
        "\n",
        "X_train, X_test, y_train, y_test = train_test_split(X, y, test_size=0.2, random_state=42)\n",
        "\n",
        "print(\"Shape of X_train:\", X_train.shape)\n",
        "print(\"Shape of X_test:\", X_test.shape)\n",
        "print(\"Shape of y_train:\", y_train.shape)\n",
        "print(\"Shape of y_test:\", y_test.shape)"
      ],
      "execution_count": 7,
      "outputs": [
        {
          "output_type": "stream",
          "name": "stdout",
          "text": [
            "Shape of X_train: (800, 20)\n",
            "Shape of X_test: (200, 20)\n",
            "Shape of y_train: (800,)\n",
            "Shape of y_test: (200,)\n"
          ]
        }
      ]
    },
    {
      "cell_type": "markdown",
      "metadata": {
        "id": "f9863bd0"
      },
      "source": [
        "**Reasoning**:\n",
        "Import LogisticRegression, instantiate the model, and train it using the training data.\n",
        "\n"
      ]
    },
    {
      "cell_type": "code",
      "metadata": {
        "colab": {
          "base_uri": "https://localhost:8080/"
        },
        "id": "d5f92550",
        "outputId": "5a884e30-0229-4577-fbb1-6f2337c3097a"
      },
      "source": [
        "from sklearn.linear_model import LogisticRegression\n",
        "\n",
        "# Instantiate a LogisticRegression model with default parameters\n",
        "model = LogisticRegression()\n",
        "\n",
        "# Train the model using the training data\n",
        "model.fit(X_train, y_train)\n",
        "\n",
        "print(\"Logistic Regression model trained successfully.\")"
      ],
      "execution_count": 8,
      "outputs": [
        {
          "output_type": "stream",
          "name": "stdout",
          "text": [
            "Logistic Regression model trained successfully.\n"
          ]
        }
      ]
    },
    {
      "cell_type": "markdown",
      "metadata": {
        "id": "b0199409"
      },
      "source": [
        "**Reasoning**:\n",
        "Import the necessary metrics functions from scikit-learn and then use the trained model to make predictions on the test set.\n",
        "\n"
      ]
    },
    {
      "cell_type": "code",
      "metadata": {
        "id": "3874b82d"
      },
      "source": [
        "from sklearn.metrics import classification_report, confusion_matrix\n",
        "\n",
        "# Make predictions on the test set\n",
        "y_pred = model.predict(X_test)"
      ],
      "execution_count": 11,
      "outputs": []
    },
    {
      "cell_type": "markdown",
      "metadata": {
        "id": "3dd2015d"
      },
      "source": [
        "**Reasoning**:\n",
        "Generate and print the classification report and confusion matrix to evaluate the model's performance using the true and predicted labels.\n",
        "\n"
      ]
    },
    {
      "cell_type": "code",
      "metadata": {
        "colab": {
          "base_uri": "https://localhost:8080/"
        },
        "id": "3c8d22de",
        "outputId": "03c11d26-28f6-4082-e150-5ca89f2de500"
      },
      "source": [
        "# Generate and print the classification report\n",
        "print(\"Classification Report:\")\n",
        "print(classification_report(y_test, y_pred))\n",
        "\n",
        "# Generate and print the confusion matrix\n",
        "print(\"\\nConfusion Matrix:\")\n",
        "print(confusion_matrix(y_test, y_pred))"
      ],
      "execution_count": 12,
      "outputs": [
        {
          "output_type": "stream",
          "name": "stdout",
          "text": [
            "Classification Report:\n",
            "              precision    recall  f1-score   support\n",
            "\n",
            "           0       0.80      0.91      0.85        93\n",
            "           1       0.91      0.80      0.86       107\n",
            "\n",
            "    accuracy                           0.85       200\n",
            "   macro avg       0.86      0.86      0.85       200\n",
            "weighted avg       0.86      0.85      0.86       200\n",
            "\n",
            "\n",
            "Confusion Matrix:\n",
            "[[85  8]\n",
            " [21 86]]\n"
          ]
        }
      ]
    },
    {
      "cell_type": "markdown",
      "metadata": {
        "id": "51469314"
      },
      "source": [
        "## Summary:\n",
        "\n",
        "### Data Analysis Key Findings\n",
        "\n",
        "*   The dataset was split into training and testing sets with 80% of the data used for training and 20% for testing.\n",
        "*   A Logistic Regression model was successfully trained on the training data.\n",
        "*   The model achieved an accuracy of 0.85 on the test set.\n",
        "*   The classification report shows good performance metrics (precision, recall, and F1-score) for both classes.\n",
        "\n",
        "### Insights or Next Steps\n",
        "\n",
        "*   The current model performs well on this balanced dataset.\n",
        "*   While the dataset is balanced, the evaluation metrics chosen (precision, recall, F1-score, confusion matrix) are appropriate for assessing performance in cases of data imbalance, demonstrating a robust evaluation approach.\n"
      ]
    }
  ]
}